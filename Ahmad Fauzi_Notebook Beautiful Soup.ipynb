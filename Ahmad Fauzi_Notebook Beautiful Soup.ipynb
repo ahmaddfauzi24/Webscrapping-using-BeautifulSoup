{
 "cells": [
  {
   "cell_type": "markdown",
   "metadata": {},
   "source": [
    "# Webscrapping using BeautifulSoup\n",
    "\n",
    "Web scraping is an automatic method to obtain large amounts of data from websites. In this Capstone, I will do web scraping exchange rate US Dollar (USD) To Indonesian Rupiah (IDR) from https://www.exchange-rates.org/history/IDR/USD/T\n",
    "\n",
    "![](assets/USD.jpeg)\n",
    "\n",
    "## Indonesian Rupiah (IDR) per US Dollar (USD)\n",
    "\n",
    "Through the website, data on the Rupiah to USD exchange rate for a period of 180 days starting from October 10th, 2022 to April 7th, 2023 can be obtained, and a summary graph of the exchange rate movement during that period is generated. It is observed that the Rupiah to USD exchange rate has decreased during the 180-day period, and the average exchange rate during this period is Rp 15,382.\n",
    "\n",
    "\n",
    "## Requesting the Data and Creating a BeautifulSoup\n",
    "\n",
    "Let's begin with requesting the web from the site with `get` method."
   ]
  },
  {
   "cell_type": "code",
   "execution_count": 1,
   "metadata": {
    "ExecuteTime": {
     "end_time": "2020-01-13T05:12:23.275508Z",
     "start_time": "2020-01-13T05:12:20.009898Z"
    }
   },
   "outputs": [],
   "source": [
    "import requests\n",
    "\n",
    "url_get = requests.get('https://www.exchange-rates.org/history/IDR/USD/T')"
   ]
  },
  {
   "cell_type": "markdown",
   "metadata": {},
   "source": [
    "To visualize what exactly you get from the `request.get`, we can use .content so ee what we exactly get, in here i slice it so it won't make our screen full of the html we get from the page. You can delete the slicing if you want to see what we fully get."
   ]
  },
  {
   "cell_type": "code",
   "execution_count": 2,
   "metadata": {
    "ExecuteTime": {
     "end_time": "2020-01-13T05:12:23.290648Z",
     "start_time": "2020-01-13T05:12:23.277650Z"
    }
   },
   "outputs": [
    {
     "data": {
      "text/plain": [
       "b'!DOCTYPE html>\\r\\n<!--[if lt IE 9]>\\r\\n<html class=\"no-js ie8 oldie\" lang=\"en\" xml:lang=\\'en\\'>\\r\\n<![endif]-->\\r\\n<!--[if gt IE 8]><!--><html class=\"no-js\" lang=\"en\" xml:lang=\\'en\\'><!--<![endif]-->\\r\\n<head>\\r\\n<title>USD to IDR exchange rate history</title>\\r\\n<meta http-equiv=\"X-UA-Compatible\" content=\"IE=edge\">\\r\\n<meta name=\"viewport\" content=\"width=device-width, initial-scale=1, maximum-scale=5\">\\r\\n<meta charset=\"utf-8\" /><meta http-equiv=\"Content-Type\" content=\"text/html; charset=utf-8\" />\\r\\n<base href=\"http'"
      ]
     },
     "execution_count": 2,
     "metadata": {},
     "output_type": "execute_result"
    }
   ],
   "source": [
    "url_get.content[1:500]"
   ]
  },
  {
   "cell_type": "markdown",
   "metadata": {},
   "source": [
    "As we can see we get a very unstructured and complex html, which actually contains the codes needed to show the webpages on your web browser. But we as human still confused what and where we can use that piece of code, so here where we use the beautifulsoup. Beautiful soup class will result a beautifulsoup object. Beautiful Soup transforms a complex HTML document into a complex tree of Python objects. \n",
    "\n",
    "Let's make Beautiful soup object and feel free to explore the object here."
   ]
  },
  {
   "cell_type": "code",
   "execution_count": 3,
   "metadata": {
    "ExecuteTime": {
     "end_time": "2020-01-13T05:12:23.808122Z",
     "start_time": "2020-01-13T05:12:23.292610Z"
    }
   },
   "outputs": [
    {
     "name": "stdout",
     "output_type": "stream",
     "text": [
      "<class 'bs4.BeautifulSoup'>\n"
     ]
    }
   ],
   "source": [
    "from bs4 import BeautifulSoup \n",
    "\n",
    "soup = BeautifulSoup(url_get.content,\"html.parser\")\n",
    "print(type(soup))"
   ]
  },
  {
   "cell_type": "code",
   "execution_count": 4,
   "metadata": {},
   "outputs": [
    {
     "name": "stdout",
     "output_type": "stream",
     "text": [
      "<!DOCTYPE html>\n",
      "<!--[if lt IE 9]>\r\n",
      "<html class=\"no-js ie8 oldie\" lang=\"en\" xml:lang='en'>\r\n",
      "<![endif]-->\n",
      "<!--[if gt IE 8]><!-->\n",
      "<html class=\"no-js\" lang=\"en\" xml:lang=\"en\">\n",
      " <!--<![endif]-->\n",
      " <head>\n",
      "  <title>\n",
      "   USD to IDR exchange rate history\n",
      "  </title>\n",
      "  <meta content=\"IE=edge\" http-equiv=\"X-UA-Compatible\"/>\n",
      "  <meta content=\"width=device-width, initial-scale=1, maximum-scale=5\" name=\"viewport\"/>\n",
      "  <meta charset=\"utf-8\">\n",
      "   <meta content=\"text/html; charset=utf-8\" http-equiv=\"Content-Type\">\n",
      "   \n"
     ]
    }
   ],
   "source": [
    "print(soup.prettify()[:500])"
   ]
  },
  {
   "cell_type": "markdown",
   "metadata": {},
   "source": [
    "## Finding the right key to scrap the data & Extracting the right information"
   ]
  },
  {
   "cell_type": "markdown",
   "metadata": {},
   "source": [
    "Find the key and put the key into the `.find()` Put all the exploring the right key at this cell. In this scrapping, we get key table containing class table. Then we beautify the results we want to see using the `.prettify()`"
   ]
  },
  {
   "cell_type": "code",
   "execution_count": 5,
   "metadata": {
    "ExecuteTime": {
     "end_time": "2020-01-13T05:12:23.878904Z",
     "start_time": "2020-01-13T05:12:23.854974Z"
    }
   },
   "outputs": [
    {
     "name": "stdout",
     "output_type": "stream",
     "text": [
      "<tbody>\n",
      " <tr>\n",
      "  <td>\n",
      "   <a class=\"w\" href=\"/exchange-rate-history/usd-idr-2023-04-07\">\n",
      "    April 7, 2023\n",
      "   </a>\n",
      "   <a class=\"n\" href=\"/exchange-rate-history/usd-idr-2023-04-07\">\n",
      "    2023-4-7\n",
      "   </a>\n",
      "  </td>\n",
      "  <td>\n",
      "   <span class=\"w\">\n",
      "    <span class=\"nowrap\">\n",
      "     <span class=\"currencySymbol\">\n",
      "      $\n",
      "     </span>\n",
      "     1 =\n",
      "    </span>\n",
      "    <span class=\"nowrap\">\n",
      "     <span class=\"currencySymbol\">\n",
      "      Rp\n",
      "     </span>\n",
      "     14,941\n",
      "    </span>\n",
      "   </span>\n",
      "   <span class=\"n\">\n",
      "    <span class=\"nowrap\"\n"
     ]
    }
   ],
   "source": [
    "table = soup.find('tbody')\n",
    "print(table.prettify()[:500])"
   ]
  },
  {
   "cell_type": "code",
   "execution_count": 6,
   "metadata": {
    "scrolled": true
   },
   "outputs": [
    {
     "data": {
      "text/plain": [
       "[<a class=\"n\" href=\"/exchange-rate-history/usd-idr-2023-04-07\">2023-4-7</a>,\n",
       " <a class=\"n\" href=\"/exchange-rate-history/usd-idr-2023-04-06\">2023-4-6</a>,\n",
       " <a class=\"n\" href=\"/exchange-rate-history/usd-idr-2023-04-05\">2023-4-5</a>,\n",
       " <a class=\"n\" href=\"/exchange-rate-history/usd-idr-2023-04-04\">2023-4-4</a>,\n",
       " <a class=\"n\" href=\"/exchange-rate-history/usd-idr-2023-04-03\">2023-4-3</a>]"
      ]
     },
     "execution_count": 6,
     "metadata": {},
     "output_type": "execute_result"
    }
   ],
   "source": [
    "table.find_all('a', attrs={'class':'n'})[:5]"
   ]
  },
  {
   "cell_type": "code",
   "execution_count": 7,
   "metadata": {},
   "outputs": [
    {
     "data": {
      "text/plain": [
       "'2023-4-7'"
      ]
     },
     "execution_count": 7,
     "metadata": {},
     "output_type": "execute_result"
    }
   ],
   "source": [
    "table.find_all('a', attrs={'class':'n'})[0].text"
   ]
  },
  {
   "cell_type": "markdown",
   "metadata": {},
   "source": [
    "Finding row length."
   ]
  },
  {
   "cell_type": "code",
   "execution_count": 8,
   "metadata": {},
   "outputs": [
    {
     "data": {
      "text/plain": [
       "130"
      ]
     },
     "execution_count": 8,
     "metadata": {},
     "output_type": "execute_result"
    }
   ],
   "source": [
    "row = table.find_all('a', attrs={'class':'n'})\n",
    "row_length = len(row)\n",
    "row_length"
   ]
  },
  {
   "cell_type": "markdown",
   "metadata": {},
   "source": [
    "Do the scrapping process to scrap the information. First we initialize a tuple and name it with the temp variable. Then we will make a loop from one to the length of the table row, which we will find all the cells of column one and two are date and kurs. then we will add it to the tuple we have created."
   ]
  },
  {
   "cell_type": "code",
   "execution_count": 9,
   "metadata": {
    "ExecuteTime": {
     "end_time": "2020-01-13T05:12:24.008256Z",
     "start_time": "2020-01-13T05:12:23.980358Z"
    }
   },
   "outputs": [
    {
     "data": {
      "text/plain": [
       "[('2023-4-7', '$1 = Rp14,941'),\n",
       " ('2023-4-6', '$1 = Rp14,931'),\n",
       " ('2023-4-5', '$1 = Rp14,960'),\n",
       " ('2023-4-4', '$1 = Rp14,957'),\n",
       " ('2023-4-3', '$1 = Rp14,922'),\n",
       " ('2023-3-31', '$1 = Rp14,969'),\n",
       " ('2023-3-30', '$1 = Rp15,024'),\n",
       " ('2023-3-29', '$1 = Rp15,034'),\n",
       " ('2023-3-28', '$1 = Rp15,060'),\n",
       " ('2023-3-27', '$1 = Rp15,107'),\n",
       " ('2023-3-24', '$1 = Rp15,165'),\n",
       " ('2023-3-23', '$1 = Rp15,085'),\n",
       " ('2023-3-22', '$1 = Rp15,253'),\n",
       " ('2023-3-21', '$1 = Rp15,301'),\n",
       " ('2023-3-20', '$1 = Rp15,343'),\n",
       " ('2023-3-17', '$1 = Rp15,375'),\n",
       " ('2023-3-16', '$1 = Rp15,429'),\n",
       " ('2023-3-15', '$1 = Rp15,459'),\n",
       " ('2023-3-14', '$1 = Rp15,380'),\n",
       " ('2023-3-13', '$1 = Rp15,416'),\n",
       " ('2023-3-10', '$1 = Rp15,503'),\n",
       " ('2023-3-9', '$1 = Rp15,495'),\n",
       " ('2023-3-8', '$1 = Rp15,449'),\n",
       " ('2023-3-7', '$1 = Rp15,429'),\n",
       " ('2023-3-6', '$1 = Rp15,354'),\n",
       " ('2023-3-3', '$1 = Rp15,278'),\n",
       " ('2023-3-2', '$1 = Rp15,322'),\n",
       " ('2023-3-1', '$1 = Rp15,249'),\n",
       " ('2023-2-28', '$1 = Rp15,241'),\n",
       " ('2023-2-27', '$1 = Rp15,216'),\n",
       " ('2023-2-24', '$1 = Rp15,265'),\n",
       " ('2023-2-23', '$1 = Rp15,211'),\n",
       " ('2023-2-22', '$1 = Rp15,197'),\n",
       " ('2023-2-21', '$1 = Rp15,235'),\n",
       " ('2023-2-20', '$1 = Rp15,168'),\n",
       " ('2023-2-17', '$1 = Rp15,166'),\n",
       " ('2023-2-16', '$1 = Rp15,144'),\n",
       " ('2023-2-15', '$1 = Rp15,205'),\n",
       " ('2023-2-14', '$1 = Rp15,186'),\n",
       " ('2023-2-13', '$1 = Rp15,216'),\n",
       " ('2023-2-10', '$1 = Rp15,188'),\n",
       " ('2023-2-9', '$1 = Rp15,147'),\n",
       " ('2023-2-8', '$1 = Rp15,133'),\n",
       " ('2023-2-7', '$1 = Rp15,154'),\n",
       " ('2023-2-6', '$1 = Rp15,198'),\n",
       " ('2023-2-3', '$1 = Rp15,095'),\n",
       " ('2023-2-2', '$1 = Rp14,907'),\n",
       " ('2023-2-1', '$1 = Rp14,896'),\n",
       " ('2023-1-31', '$1 = Rp15,002'),\n",
       " ('2023-1-30', '$1 = Rp15,013'),\n",
       " ('2023-1-27', '$1 = Rp14,973'),\n",
       " ('2023-1-26', '$1 = Rp14,955'),\n",
       " ('2023-1-25', '$1 = Rp14,940'),\n",
       " ('2023-1-24', '$1 = Rp14,956'),\n",
       " ('2023-1-23', '$1 = Rp15,026'),\n",
       " ('2023-1-20', '$1 = Rp15,063'),\n",
       " ('2023-1-19', '$1 = Rp15,154'),\n",
       " ('2023-1-18', '$1 = Rp15,138'),\n",
       " ('2023-1-17', '$1 = Rp15,180'),\n",
       " ('2023-1-16', '$1 = Rp15,126'),\n",
       " ('2023-1-13', '$1 = Rp15,115'),\n",
       " ('2023-1-12', '$1 = Rp15,206'),\n",
       " ('2023-1-11', '$1 = Rp15,432'),\n",
       " ('2023-1-10', '$1 = Rp15,536'),\n",
       " ('2023-1-9', '$1 = Rp15,596'),\n",
       " ('2023-1-6', '$1 = Rp15,607'),\n",
       " ('2023-1-5', '$1 = Rp15,635'),\n",
       " ('2023-1-4', '$1 = Rp15,582'),\n",
       " ('2023-1-3', '$1 = Rp15,594'),\n",
       " ('2023-1-2', '$1 = Rp15,554'),\n",
       " ('2022-12-30', '$1 = Rp15,534'),\n",
       " ('2022-12-29', '$1 = Rp15,627'),\n",
       " ('2022-12-28', '$1 = Rp15,789'),\n",
       " ('2022-12-27', '$1 = Rp15,620'),\n",
       " ('2022-12-26', '$1 = Rp15,621'),\n",
       " ('2022-12-23', '$1 = Rp15,582'),\n",
       " ('2022-12-22', '$1 = Rp15,574'),\n",
       " ('2022-12-21', '$1 = Rp15,540'),\n",
       " ('2022-12-20', '$1 = Rp15,564'),\n",
       " ('2022-12-19', '$1 = Rp15,568'),\n",
       " ('2022-12-16', '$1 = Rp15,616'),\n",
       " ('2022-12-15', '$1 = Rp15,629'),\n",
       " ('2022-12-14', '$1 = Rp15,543'),\n",
       " ('2022-12-13', '$1 = Rp15,560'),\n",
       " ('2022-12-12', '$1 = Rp15,676'),\n",
       " ('2022-12-9', '$1 = Rp15,604'),\n",
       " ('2022-12-8', '$1 = Rp15,594'),\n",
       " ('2022-12-7', '$1 = Rp15,612'),\n",
       " ('2022-12-6', '$1 = Rp15,625'),\n",
       " ('2022-12-5', '$1 = Rp15,520'),\n",
       " ('2022-12-2', '$1 = Rp15,376'),\n",
       " ('2022-12-1', '$1 = Rp15,389'),\n",
       " ('2022-11-30', '$1 = Rp15,633'),\n",
       " ('2022-11-29', '$1 = Rp15,734'),\n",
       " ('2022-11-28', '$1 = Rp15,743'),\n",
       " ('2022-11-25', '$1 = Rp15,693'),\n",
       " ('2022-11-24', '$1 = Rp15,647'),\n",
       " ('2022-11-23', '$1 = Rp15,626'),\n",
       " ('2022-11-22', '$1 = Rp15,664'),\n",
       " ('2022-11-21', '$1 = Rp15,741'),\n",
       " ('2022-11-18', '$1 = Rp15,641'),\n",
       " ('2022-11-17', '$1 = Rp15,714'),\n",
       " ('2022-11-16', '$1 = Rp15,639'),\n",
       " ('2022-11-15', '$1 = Rp15,557'),\n",
       " ('2022-11-14', '$1 = Rp15,554'),\n",
       " ('2022-11-11', '$1 = Rp15,474'),\n",
       " ('2022-11-10', '$1 = Rp15,520'),\n",
       " ('2022-11-9', '$1 = Rp15,692'),\n",
       " ('2022-11-8', '$1 = Rp15,638'),\n",
       " ('2022-11-7', '$1 = Rp15,685'),\n",
       " ('2022-11-4', '$1 = Rp15,615'),\n",
       " ('2022-11-3', '$1 = Rp15,790'),\n",
       " ('2022-11-2', '$1 = Rp15,685'),\n",
       " ('2022-11-1', '$1 = Rp15,674'),\n",
       " ('2022-10-31', '$1 = Rp15,624'),\n",
       " ('2022-10-28', '$1 = Rp15,557'),\n",
       " ('2022-10-27', '$1 = Rp15,560'),\n",
       " ('2022-10-26', '$1 = Rp15,503'),\n",
       " ('2022-10-25', '$1 = Rp15,533'),\n",
       " ('2022-10-24', '$1 = Rp15,598'),\n",
       " ('2022-10-21', '$1 = Rp15,537'),\n",
       " ('2022-10-20', '$1 = Rp15,562'),\n",
       " ('2022-10-19', '$1 = Rp15,587'),\n",
       " ('2022-10-18', '$1 = Rp15,474'),\n",
       " ('2022-10-17', '$1 = Rp15,441'),\n",
       " ('2022-10-14', '$1 = Rp15,472'),\n",
       " ('2022-10-13', '$1 = Rp15,372'),\n",
       " ('2022-10-12', '$1 = Rp15,319'),\n",
       " ('2022-10-11', '$1 = Rp15,354'),\n",
       " ('2022-10-10', '$1 = Rp15,321')]"
      ]
     },
     "execution_count": 9,
     "metadata": {},
     "output_type": "execute_result"
    }
   ],
   "source": [
    "temp = [] #init\n",
    "\n",
    "for i in range(0, row_length):\n",
    "    \n",
    "    #get date \n",
    "    date = table.find_all('a', attrs={'class':'n'})[i].text\n",
    "    \n",
    "    #get kurs\n",
    "    kurs = table.find_all('span', attrs={'class':'w'})[i].text\n",
    "    kurs = kurs.strip() #to remove excess white space\n",
    "    \n",
    "    temp.append((date,kurs)) \n",
    "    \n",
    "temp "
   ]
  },
  {
   "cell_type": "markdown",
   "metadata": {},
   "source": [
    "It can be seen, that the results obtained start from the most recent date. We will change the order from oldest to newest date using `::-1`"
   ]
  },
  {
   "cell_type": "code",
   "execution_count": 10,
   "metadata": {},
   "outputs": [
    {
     "data": {
      "text/plain": [
       "[('2022-10-10', '$1 = Rp15,321'),\n",
       " ('2022-10-11', '$1 = Rp15,354'),\n",
       " ('2022-10-12', '$1 = Rp15,319'),\n",
       " ('2022-10-13', '$1 = Rp15,372'),\n",
       " ('2022-10-14', '$1 = Rp15,472'),\n",
       " ('2022-10-17', '$1 = Rp15,441'),\n",
       " ('2022-10-18', '$1 = Rp15,474'),\n",
       " ('2022-10-19', '$1 = Rp15,587'),\n",
       " ('2022-10-20', '$1 = Rp15,562'),\n",
       " ('2022-10-21', '$1 = Rp15,537'),\n",
       " ('2022-10-24', '$1 = Rp15,598'),\n",
       " ('2022-10-25', '$1 = Rp15,533'),\n",
       " ('2022-10-26', '$1 = Rp15,503'),\n",
       " ('2022-10-27', '$1 = Rp15,560'),\n",
       " ('2022-10-28', '$1 = Rp15,557'),\n",
       " ('2022-10-31', '$1 = Rp15,624'),\n",
       " ('2022-11-1', '$1 = Rp15,674'),\n",
       " ('2022-11-2', '$1 = Rp15,685'),\n",
       " ('2022-11-3', '$1 = Rp15,790'),\n",
       " ('2022-11-4', '$1 = Rp15,615'),\n",
       " ('2022-11-7', '$1 = Rp15,685'),\n",
       " ('2022-11-8', '$1 = Rp15,638'),\n",
       " ('2022-11-9', '$1 = Rp15,692'),\n",
       " ('2022-11-10', '$1 = Rp15,520'),\n",
       " ('2022-11-11', '$1 = Rp15,474'),\n",
       " ('2022-11-14', '$1 = Rp15,554'),\n",
       " ('2022-11-15', '$1 = Rp15,557'),\n",
       " ('2022-11-16', '$1 = Rp15,639'),\n",
       " ('2022-11-17', '$1 = Rp15,714'),\n",
       " ('2022-11-18', '$1 = Rp15,641'),\n",
       " ('2022-11-21', '$1 = Rp15,741'),\n",
       " ('2022-11-22', '$1 = Rp15,664'),\n",
       " ('2022-11-23', '$1 = Rp15,626'),\n",
       " ('2022-11-24', '$1 = Rp15,647'),\n",
       " ('2022-11-25', '$1 = Rp15,693'),\n",
       " ('2022-11-28', '$1 = Rp15,743'),\n",
       " ('2022-11-29', '$1 = Rp15,734'),\n",
       " ('2022-11-30', '$1 = Rp15,633'),\n",
       " ('2022-12-1', '$1 = Rp15,389'),\n",
       " ('2022-12-2', '$1 = Rp15,376'),\n",
       " ('2022-12-5', '$1 = Rp15,520'),\n",
       " ('2022-12-6', '$1 = Rp15,625'),\n",
       " ('2022-12-7', '$1 = Rp15,612'),\n",
       " ('2022-12-8', '$1 = Rp15,594'),\n",
       " ('2022-12-9', '$1 = Rp15,604'),\n",
       " ('2022-12-12', '$1 = Rp15,676'),\n",
       " ('2022-12-13', '$1 = Rp15,560'),\n",
       " ('2022-12-14', '$1 = Rp15,543'),\n",
       " ('2022-12-15', '$1 = Rp15,629'),\n",
       " ('2022-12-16', '$1 = Rp15,616'),\n",
       " ('2022-12-19', '$1 = Rp15,568'),\n",
       " ('2022-12-20', '$1 = Rp15,564'),\n",
       " ('2022-12-21', '$1 = Rp15,540'),\n",
       " ('2022-12-22', '$1 = Rp15,574'),\n",
       " ('2022-12-23', '$1 = Rp15,582'),\n",
       " ('2022-12-26', '$1 = Rp15,621'),\n",
       " ('2022-12-27', '$1 = Rp15,620'),\n",
       " ('2022-12-28', '$1 = Rp15,789'),\n",
       " ('2022-12-29', '$1 = Rp15,627'),\n",
       " ('2022-12-30', '$1 = Rp15,534'),\n",
       " ('2023-1-2', '$1 = Rp15,554'),\n",
       " ('2023-1-3', '$1 = Rp15,594'),\n",
       " ('2023-1-4', '$1 = Rp15,582'),\n",
       " ('2023-1-5', '$1 = Rp15,635'),\n",
       " ('2023-1-6', '$1 = Rp15,607'),\n",
       " ('2023-1-9', '$1 = Rp15,596'),\n",
       " ('2023-1-10', '$1 = Rp15,536'),\n",
       " ('2023-1-11', '$1 = Rp15,432'),\n",
       " ('2023-1-12', '$1 = Rp15,206'),\n",
       " ('2023-1-13', '$1 = Rp15,115'),\n",
       " ('2023-1-16', '$1 = Rp15,126'),\n",
       " ('2023-1-17', '$1 = Rp15,180'),\n",
       " ('2023-1-18', '$1 = Rp15,138'),\n",
       " ('2023-1-19', '$1 = Rp15,154'),\n",
       " ('2023-1-20', '$1 = Rp15,063'),\n",
       " ('2023-1-23', '$1 = Rp15,026'),\n",
       " ('2023-1-24', '$1 = Rp14,956'),\n",
       " ('2023-1-25', '$1 = Rp14,940'),\n",
       " ('2023-1-26', '$1 = Rp14,955'),\n",
       " ('2023-1-27', '$1 = Rp14,973'),\n",
       " ('2023-1-30', '$1 = Rp15,013'),\n",
       " ('2023-1-31', '$1 = Rp15,002'),\n",
       " ('2023-2-1', '$1 = Rp14,896'),\n",
       " ('2023-2-2', '$1 = Rp14,907'),\n",
       " ('2023-2-3', '$1 = Rp15,095'),\n",
       " ('2023-2-6', '$1 = Rp15,198'),\n",
       " ('2023-2-7', '$1 = Rp15,154'),\n",
       " ('2023-2-8', '$1 = Rp15,133'),\n",
       " ('2023-2-9', '$1 = Rp15,147'),\n",
       " ('2023-2-10', '$1 = Rp15,188'),\n",
       " ('2023-2-13', '$1 = Rp15,216'),\n",
       " ('2023-2-14', '$1 = Rp15,186'),\n",
       " ('2023-2-15', '$1 = Rp15,205'),\n",
       " ('2023-2-16', '$1 = Rp15,144'),\n",
       " ('2023-2-17', '$1 = Rp15,166'),\n",
       " ('2023-2-20', '$1 = Rp15,168'),\n",
       " ('2023-2-21', '$1 = Rp15,235'),\n",
       " ('2023-2-22', '$1 = Rp15,197'),\n",
       " ('2023-2-23', '$1 = Rp15,211'),\n",
       " ('2023-2-24', '$1 = Rp15,265'),\n",
       " ('2023-2-27', '$1 = Rp15,216'),\n",
       " ('2023-2-28', '$1 = Rp15,241'),\n",
       " ('2023-3-1', '$1 = Rp15,249'),\n",
       " ('2023-3-2', '$1 = Rp15,322'),\n",
       " ('2023-3-3', '$1 = Rp15,278'),\n",
       " ('2023-3-6', '$1 = Rp15,354'),\n",
       " ('2023-3-7', '$1 = Rp15,429'),\n",
       " ('2023-3-8', '$1 = Rp15,449'),\n",
       " ('2023-3-9', '$1 = Rp15,495'),\n",
       " ('2023-3-10', '$1 = Rp15,503'),\n",
       " ('2023-3-13', '$1 = Rp15,416'),\n",
       " ('2023-3-14', '$1 = Rp15,380'),\n",
       " ('2023-3-15', '$1 = Rp15,459'),\n",
       " ('2023-3-16', '$1 = Rp15,429'),\n",
       " ('2023-3-17', '$1 = Rp15,375'),\n",
       " ('2023-3-20', '$1 = Rp15,343'),\n",
       " ('2023-3-21', '$1 = Rp15,301'),\n",
       " ('2023-3-22', '$1 = Rp15,253'),\n",
       " ('2023-3-23', '$1 = Rp15,085'),\n",
       " ('2023-3-24', '$1 = Rp15,165'),\n",
       " ('2023-3-27', '$1 = Rp15,107'),\n",
       " ('2023-3-28', '$1 = Rp15,060'),\n",
       " ('2023-3-29', '$1 = Rp15,034'),\n",
       " ('2023-3-30', '$1 = Rp15,024'),\n",
       " ('2023-3-31', '$1 = Rp14,969'),\n",
       " ('2023-4-3', '$1 = Rp14,922'),\n",
       " ('2023-4-4', '$1 = Rp14,957'),\n",
       " ('2023-4-5', '$1 = Rp14,960'),\n",
       " ('2023-4-6', '$1 = Rp14,931'),\n",
       " ('2023-4-7', '$1 = Rp14,941')]"
      ]
     },
     "execution_count": 10,
     "metadata": {},
     "output_type": "execute_result"
    }
   ],
   "source": [
    "temp = temp[::-1]\n",
    "temp"
   ]
  },
  {
   "cell_type": "markdown",
   "metadata": {},
   "source": [
    "## Creating data frame & Data wrangling"
   ]
  },
  {
   "cell_type": "markdown",
   "metadata": {},
   "source": [
    "Put the array into dataframe"
   ]
  },
  {
   "cell_type": "code",
   "execution_count": 11,
   "metadata": {
    "ExecuteTime": {
     "end_time": "2020-01-13T05:12:41.517372Z",
     "start_time": "2020-01-13T05:12:29.130015Z"
    },
    "scrolled": true
   },
   "outputs": [
    {
     "data": {
      "text/html": [
       "<div>\n",
       "<style scoped>\n",
       "    .dataframe tbody tr th:only-of-type {\n",
       "        vertical-align: middle;\n",
       "    }\n",
       "\n",
       "    .dataframe tbody tr th {\n",
       "        vertical-align: top;\n",
       "    }\n",
       "\n",
       "    .dataframe thead th {\n",
       "        text-align: right;\n",
       "    }\n",
       "</style>\n",
       "<table border=\"1\" class=\"dataframe\">\n",
       "  <thead>\n",
       "    <tr style=\"text-align: right;\">\n",
       "      <th></th>\n",
       "      <th>Date</th>\n",
       "      <th>Kurs</th>\n",
       "    </tr>\n",
       "  </thead>\n",
       "  <tbody>\n",
       "    <tr>\n",
       "      <th>0</th>\n",
       "      <td>2022-10-10</td>\n",
       "      <td>$1 = Rp15,321</td>\n",
       "    </tr>\n",
       "    <tr>\n",
       "      <th>1</th>\n",
       "      <td>2022-10-11</td>\n",
       "      <td>$1 = Rp15,354</td>\n",
       "    </tr>\n",
       "    <tr>\n",
       "      <th>2</th>\n",
       "      <td>2022-10-12</td>\n",
       "      <td>$1 = Rp15,319</td>\n",
       "    </tr>\n",
       "    <tr>\n",
       "      <th>3</th>\n",
       "      <td>2022-10-13</td>\n",
       "      <td>$1 = Rp15,372</td>\n",
       "    </tr>\n",
       "    <tr>\n",
       "      <th>4</th>\n",
       "      <td>2022-10-14</td>\n",
       "      <td>$1 = Rp15,472</td>\n",
       "    </tr>\n",
       "  </tbody>\n",
       "</table>\n",
       "</div>"
      ],
      "text/plain": [
       "         Date           Kurs\n",
       "0  2022-10-10  $1 = Rp15,321\n",
       "1  2022-10-11  $1 = Rp15,354\n",
       "2  2022-10-12  $1 = Rp15,319\n",
       "3  2022-10-13  $1 = Rp15,372\n",
       "4  2022-10-14  $1 = Rp15,472"
      ]
     },
     "execution_count": 11,
     "metadata": {},
     "output_type": "execute_result"
    }
   ],
   "source": [
    "import pandas as pd\n",
    "\n",
    "df = pd.DataFrame(temp,columns=['Date','Kurs'])\n",
    "df.head()"
   ]
  },
  {
   "cell_type": "markdown",
   "metadata": {},
   "source": [
    "After that, we will remove ($ , 1 = , Rp) string and the comma to change the kurs data type to float"
   ]
  },
  {
   "cell_type": "code",
   "execution_count": 12,
   "metadata": {
    "ExecuteTime": {
     "end_time": "2020-01-13T05:12:59.165559Z",
     "start_time": "2020-01-13T05:12:58.910012Z"
    },
    "scrolled": true
   },
   "outputs": [
    {
     "name": "stderr",
     "output_type": "stream",
     "text": [
      "C:\\Users\\ACER\\AppData\\Local\\Temp\\ipykernel_10020\\4109681693.py:2: FutureWarning: The default value of regex will change from True to False in a future version. In addition, single character regular expressions will *not* be treated as literal strings when regex=True.\n",
      "  df['Kurs'] = df['Kurs'].str.replace('$','')\n"
     ]
    },
    {
     "data": {
      "text/html": [
       "<div>\n",
       "<style scoped>\n",
       "    .dataframe tbody tr th:only-of-type {\n",
       "        vertical-align: middle;\n",
       "    }\n",
       "\n",
       "    .dataframe tbody tr th {\n",
       "        vertical-align: top;\n",
       "    }\n",
       "\n",
       "    .dataframe thead th {\n",
       "        text-align: right;\n",
       "    }\n",
       "</style>\n",
       "<table border=\"1\" class=\"dataframe\">\n",
       "  <thead>\n",
       "    <tr style=\"text-align: right;\">\n",
       "      <th></th>\n",
       "      <th>Date</th>\n",
       "      <th>Kurs</th>\n",
       "    </tr>\n",
       "  </thead>\n",
       "  <tbody>\n",
       "    <tr>\n",
       "      <th>0</th>\n",
       "      <td>2022-10-10</td>\n",
       "      <td>15321</td>\n",
       "    </tr>\n",
       "    <tr>\n",
       "      <th>1</th>\n",
       "      <td>2022-10-11</td>\n",
       "      <td>15354</td>\n",
       "    </tr>\n",
       "    <tr>\n",
       "      <th>2</th>\n",
       "      <td>2022-10-12</td>\n",
       "      <td>15319</td>\n",
       "    </tr>\n",
       "    <tr>\n",
       "      <th>3</th>\n",
       "      <td>2022-10-13</td>\n",
       "      <td>15372</td>\n",
       "    </tr>\n",
       "    <tr>\n",
       "      <th>4</th>\n",
       "      <td>2022-10-14</td>\n",
       "      <td>15472</td>\n",
       "    </tr>\n",
       "  </tbody>\n",
       "</table>\n",
       "</div>"
      ],
      "text/plain": [
       "         Date    Kurs\n",
       "0  2022-10-10   15321\n",
       "1  2022-10-11   15354\n",
       "2  2022-10-12   15319\n",
       "3  2022-10-13   15372\n",
       "4  2022-10-14   15472"
      ]
     },
     "execution_count": 12,
     "metadata": {},
     "output_type": "execute_result"
    }
   ],
   "source": [
    "# to get rid of the string '$'\n",
    "df['Kurs'] = df['Kurs'].str.replace('$','')\n",
    "\n",
    "# to get rid of the string '1 ='\n",
    "df['Kurs'] = df['Kurs'].str.replace('1 =','')\n",
    "\n",
    "# to get rid of the string 'Rp'\n",
    "df['Kurs'] = df['Kurs'].str.replace('Rp','')\n",
    "\n",
    "# to get rid of the string ','\n",
    "df['Kurs'] = df['Kurs'].str.replace(',','')\n",
    "\n",
    "df.head()"
   ]
  },
  {
   "cell_type": "code",
   "execution_count": 13,
   "metadata": {},
   "outputs": [
    {
     "data": {
      "text/plain": [
       "Date    object\n",
       "Kurs    object\n",
       "dtype: object"
      ]
     },
     "execution_count": 13,
     "metadata": {},
     "output_type": "execute_result"
    }
   ],
   "source": [
    "# check data types\n",
    "df.dtypes"
   ]
  },
  {
   "cell_type": "code",
   "execution_count": 14,
   "metadata": {},
   "outputs": [
    {
     "data": {
      "text/plain": [
       "Date    datetime64[ns]\n",
       "Kurs           float64\n",
       "dtype: object"
      ]
     },
     "execution_count": 14,
     "metadata": {},
     "output_type": "execute_result"
    }
   ],
   "source": [
    "# to change the data type in columns Date to datetime64\n",
    "df['Date'] = df['Date'].astype('datetime64')\n",
    "\n",
    "# to change the data type in columns Kurs to float\n",
    "df['Kurs'] = df['Kurs'].astype('float')\n",
    "\n",
    "df.dtypes"
   ]
  },
  {
   "cell_type": "markdown",
   "metadata": {},
   "source": [
    "We will create a new column containing month and year to get the mean so that it can be visualized by month category"
   ]
  },
  {
   "cell_type": "code",
   "execution_count": 15,
   "metadata": {
    "scrolled": true
   },
   "outputs": [
    {
     "data": {
      "text/html": [
       "<div>\n",
       "<style scoped>\n",
       "    .dataframe tbody tr th:only-of-type {\n",
       "        vertical-align: middle;\n",
       "    }\n",
       "\n",
       "    .dataframe tbody tr th {\n",
       "        vertical-align: top;\n",
       "    }\n",
       "\n",
       "    .dataframe thead th {\n",
       "        text-align: right;\n",
       "    }\n",
       "</style>\n",
       "<table border=\"1\" class=\"dataframe\">\n",
       "  <thead>\n",
       "    <tr style=\"text-align: right;\">\n",
       "      <th></th>\n",
       "      <th>Date</th>\n",
       "      <th>Kurs</th>\n",
       "      <th>Month</th>\n",
       "    </tr>\n",
       "  </thead>\n",
       "  <tbody>\n",
       "    <tr>\n",
       "      <th>0</th>\n",
       "      <td>2022-10-10</td>\n",
       "      <td>15321.0</td>\n",
       "      <td>2022-10</td>\n",
       "    </tr>\n",
       "    <tr>\n",
       "      <th>1</th>\n",
       "      <td>2022-10-11</td>\n",
       "      <td>15354.0</td>\n",
       "      <td>2022-10</td>\n",
       "    </tr>\n",
       "    <tr>\n",
       "      <th>2</th>\n",
       "      <td>2022-10-12</td>\n",
       "      <td>15319.0</td>\n",
       "      <td>2022-10</td>\n",
       "    </tr>\n",
       "    <tr>\n",
       "      <th>3</th>\n",
       "      <td>2022-10-13</td>\n",
       "      <td>15372.0</td>\n",
       "      <td>2022-10</td>\n",
       "    </tr>\n",
       "    <tr>\n",
       "      <th>4</th>\n",
       "      <td>2022-10-14</td>\n",
       "      <td>15472.0</td>\n",
       "      <td>2022-10</td>\n",
       "    </tr>\n",
       "  </tbody>\n",
       "</table>\n",
       "</div>"
      ],
      "text/plain": [
       "        Date     Kurs    Month\n",
       "0 2022-10-10  15321.0  2022-10\n",
       "1 2022-10-11  15354.0  2022-10\n",
       "2 2022-10-12  15319.0  2022-10\n",
       "3 2022-10-13  15372.0  2022-10\n",
       "4 2022-10-14  15472.0  2022-10"
      ]
     },
     "execution_count": 15,
     "metadata": {},
     "output_type": "execute_result"
    }
   ],
   "source": [
    "# make new column to get contain month\n",
    "df['Month'] = df['Date'].dt.to_period('M')\n",
    "df.head()"
   ]
  },
  {
   "cell_type": "code",
   "execution_count": 16,
   "metadata": {},
   "outputs": [
    {
     "name": "stderr",
     "output_type": "stream",
     "text": [
      "C:\\Users\\ACER\\AppData\\Local\\Temp\\ipykernel_10020\\175397962.py:2: FutureWarning: The default value of numeric_only in DataFrameGroupBy.mean is deprecated. In a future version, numeric_only will default to False. Either specify numeric_only or select only columns which should be valid for the function.\n",
      "  df_mean = df.groupby('Month').mean().round(2)\n"
     ]
    },
    {
     "data": {
      "text/html": [
       "<div>\n",
       "<style scoped>\n",
       "    .dataframe tbody tr th:only-of-type {\n",
       "        vertical-align: middle;\n",
       "    }\n",
       "\n",
       "    .dataframe tbody tr th {\n",
       "        vertical-align: top;\n",
       "    }\n",
       "\n",
       "    .dataframe thead th {\n",
       "        text-align: right;\n",
       "    }\n",
       "</style>\n",
       "<table border=\"1\" class=\"dataframe\">\n",
       "  <thead>\n",
       "    <tr style=\"text-align: right;\">\n",
       "      <th></th>\n",
       "      <th>Kurs</th>\n",
       "    </tr>\n",
       "    <tr>\n",
       "      <th>Month</th>\n",
       "      <th></th>\n",
       "    </tr>\n",
       "  </thead>\n",
       "  <tbody>\n",
       "    <tr>\n",
       "      <th>2022-10</th>\n",
       "      <td>15488.38</td>\n",
       "    </tr>\n",
       "    <tr>\n",
       "      <th>2022-11</th>\n",
       "      <td>15652.68</td>\n",
       "    </tr>\n",
       "    <tr>\n",
       "      <th>2022-12</th>\n",
       "      <td>15580.14</td>\n",
       "    </tr>\n",
       "    <tr>\n",
       "      <th>2023-01</th>\n",
       "      <td>15244.68</td>\n",
       "    </tr>\n",
       "    <tr>\n",
       "      <th>2023-02</th>\n",
       "      <td>15158.40</td>\n",
       "    </tr>\n",
       "    <tr>\n",
       "      <th>2023-03</th>\n",
       "      <td>15281.70</td>\n",
       "    </tr>\n",
       "    <tr>\n",
       "      <th>2023-04</th>\n",
       "      <td>14942.20</td>\n",
       "    </tr>\n",
       "  </tbody>\n",
       "</table>\n",
       "</div>"
      ],
      "text/plain": [
       "             Kurs\n",
       "Month            \n",
       "2022-10  15488.38\n",
       "2022-11  15652.68\n",
       "2022-12  15580.14\n",
       "2023-01  15244.68\n",
       "2023-02  15158.40\n",
       "2023-03  15281.70\n",
       "2023-04  14942.20"
      ]
     },
     "execution_count": 16,
     "metadata": {},
     "output_type": "execute_result"
    }
   ],
   "source": [
    "# using groupby to get mean in every month\n",
    "df_mean = df.groupby('Month').mean().round(2)\n",
    "df_mean"
   ]
  },
  {
   "cell_type": "markdown",
   "metadata": {},
   "source": [
    "## Finishing This Notebook with Your Analysis and Conclusion\n",
    "\n",
    "First you can do start with making the data visualisation. "
   ]
  },
  {
   "cell_type": "markdown",
   "metadata": {},
   "source": [
    "After we get the average exchange rate from each month, then we will make a visualization using `.plot`"
   ]
  },
  {
   "cell_type": "code",
   "execution_count": 17,
   "metadata": {
    "ExecuteTime": {
     "end_time": "2020-01-13T05:20:56.208237Z",
     "start_time": "2020-01-13T05:20:56.076043Z"
    }
   },
   "outputs": [
    {
     "data": {
      "image/png": "[encoded data removed]",
      "text/plain": [
       "<Figure size 640x480 with 1 Axes>"
      ]
     },
     "metadata": {},
     "output_type": "display_data"
    }
   ],
   "source": [
    "df_mean.plot();"
   ]
  },
  {
   "cell_type": "markdown",
   "metadata": {},
   "source": [
    "## Conclusion\n",
    "The chart illustrates that the dollar to rupiah exchange rate has a downward trend from October 2022-April 2023. Although there was an increase in the exchange rate in February 2023, the exchange rate declined again in March-April 2023. The conclusion is that the dollar exchange rate from October 2022 to April 2023 has decreased.\n",
    "\n",
    "The depreciation of the dollar exchange rate against the rupiah can have several negative impacts. The government should make efforts to keep the rupiah exchange rate stable and strengthen it against the dollar exchange rate.\n"
   ]
  },
  {
   "cell_type": "markdown",
   "metadata": {},
   "source": [
    "### Implementing your webscrapping to the flask dashboard\n",
    "\n",
    "- Copy paste all of your web scrapping process to the desired position on the `app.py`\n",
    "- Changing the title of the dasboard at `index.html`"
   ]
  }
 ],
 "metadata": {
  "kernelspec": {
   "display_name": "capstone_da",
   "language": "python",
   "name": "capstone_da"
  },
  "language_info": {
   "codemirror_mode": {
    "name": "ipython",
    "version": 3
   },
   "file_extension": ".py",
   "mimetype": "text/x-python",
   "name": "python",
   "nbconvert_exporter": "python",
   "pygments_lexer": "ipython3",
   "version": "3.10.10"
  }
 },
 "nbformat": 4,
 "nbformat_minor": 2
}
